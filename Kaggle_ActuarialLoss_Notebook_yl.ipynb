{
 "cells": [
  {
   "cell_type": "markdown",
   "metadata": {
    "papermill": {
     "duration": 0.060465,
     "end_time": "2021-03-04T01:08:54.437559",
     "exception": false,
     "start_time": "2021-03-04T01:08:54.377094",
     "status": "completed"
    },
    "tags": []
   },
   "source": [
    "# Kaggle Actuarial Loss Prediction\n",
    "\n",
    "Notebook for exploring, engineering, modeling, and predicting Workers' Compensation claims."
   ]
  },
  {
   "cell_type": "markdown",
   "metadata": {
    "papermill": {
     "duration": 0.059358,
     "end_time": "2021-03-04T01:08:54.555792",
     "exception": false,
     "start_time": "2021-03-04T01:08:54.496434",
     "status": "completed"
    },
    "tags": []
   },
   "source": [
    "## 1.  Training Data: Exploratory Data Analysis (EDA)"
   ]
  },
  {
   "cell_type": "code",
   "execution_count": 68,
   "metadata": {
    "execution": {
     "iopub.execute_input": "2021-08-07T15:29:59.089852Z",
     "iopub.status.busy": "2021-08-07T15:29:59.089510Z",
     "iopub.status.idle": "2021-08-07T15:30:00.089166Z",
     "shell.execute_reply": "2021-08-07T15:30:00.088186Z",
     "shell.execute_reply.started": "2021-08-07T15:29:59.089823Z"
    },
    "papermill": {
     "duration": 10.203203,
     "end_time": "2021-03-04T01:09:04.816798",
     "exception": false,
     "start_time": "2021-03-04T01:08:54.613595",
     "status": "completed"
    },
    "tags": []
   },
   "outputs": [],
   "source": [
    "# libraries\n",
    "import numpy as np\n",
    "import pandas as pd\n",
    "import matplotlib.pyplot as plt\n",
    "plt.rcParams.update({'figure.max_open_warning': 0})\n",
    "pd.set_option('display.float_format', lambda x: '%.3f' % x)\n",
    "import seaborn as sns\n",
    "\n",
    "import nltk\n",
    "from nltk.stem.wordnet import WordNetLemmatizer\n",
    "import spacy\n",
    "sp = spacy.load('en_core_web_sm')\n",
    "\n",
    "import warnings\n",
    "warnings.filterwarnings(action=\"ignore\", category=DeprecationWarning)\n",
    "warnings.simplefilter(action='ignore', category=FutureWarning)\n",
    "\n",
    "from sklearn.model_selection import train_test_split\n",
    "from tensorflow import random_normal_initializer\n",
    "from tensorflow.keras.models import Sequential, Model\n",
    "from tensorflow.keras.layers import Input, Dense, Embedding, Concatenate, Flatten, BatchNormalization, Dropout, Reshape, Activation\n",
    "import tensorflow.keras as keras\n",
    "from collections import Counter\n",
    "from datetime import datetime\n",
    "\n",
    "from sklearn.feature_extraction.text import CountVectorizer, ENGLISH_STOP_WORDS\n",
    "from sklearn.metrics import mean_squared_error\n",
    "from sklearn.model_selection import train_test_split, GridSearchCV, KFold, ParameterGrid, RandomizedSearchCV\n",
    "from sklearn.linear_model import ElasticNetCV, LassoCV, RidgeCV\n",
    "from sklearn.ensemble import GradientBoostingRegressor, RandomForestRegressor\n",
    "from sklearn.svm import SVR\n",
    "from sklearn.pipeline import make_pipeline\n",
    "\n",
    "from mlxtend.regressor import StackingCVRegressor\n",
    "\n",
    "from catboost import CatBoostRegressor\n",
    "from itertools import product, chain\n",
    "from tqdm import tqdm\n",
    "import math  \n",
    "\n",
    "from xgboost import XGBRegressor\n",
    "from lightgbm import LGBMRegressor\n",
    "from catboost import CatBoostRegressor\n",
    "import time\n",
    "import shap \n",
    "\n",
    "import os\n",
    "import tensorflow as tf\n",
    "import random \n",
    "def reset_random_seeds():\n",
    "   os.environ['PYTHONHASHSEED'] = str(9125)  \n",
    "   tf.random.set_seed(9125)\n",
    "   np.random.seed(9125)\n",
    "   random.seed(9125)"
   ]
  },
  {
   "cell_type": "markdown",
   "metadata": {
    "papermill": {
     "duration": 0.058318,
     "end_time": "2021-03-04T01:09:04.933313",
     "exception": false,
     "start_time": "2021-03-04T01:09:04.874995",
     "status": "completed"
    },
    "tags": []
   },
   "source": [
    "### 1.1 Reading in the dataset and preprocessing"
   ]
  },
  {
   "cell_type": "code",
   "execution_count": 69,
   "metadata": {
    "execution": {
     "iopub.execute_input": "2021-08-07T15:30:00.091197Z",
     "iopub.status.busy": "2021-08-07T15:30:00.090774Z",
     "iopub.status.idle": "2021-08-07T15:30:00.365206Z",
     "shell.execute_reply": "2021-08-07T15:30:00.364109Z",
     "shell.execute_reply.started": "2021-08-07T15:30:00.091154Z"
    },
    "papermill": {
     "duration": 0.527319,
     "end_time": "2021-03-04T01:09:05.519913",
     "exception": false,
     "start_time": "2021-03-04T01:09:04.992594",
     "status": "completed"
    },
    "tags": []
   },
   "outputs": [
    {
     "name": "stdout",
     "output_type": "stream",
     "text": [
      "Number of rows and columns: (54000, 15)\n"
     ]
    }
   ],
   "source": [
    "# read training data\n",
    "df = pd.read_csv('/kaggle/input/actuarial-loss-estimation/train.csv')\n",
    "df.drop_duplicates(inplace=True)\n",
    "print('Number of rows and columns:', df.shape)"
   ]
  },
  {
   "cell_type": "markdown",
   "metadata": {
    "papermill": {
     "duration": 0.059373,
     "end_time": "2021-03-04T01:09:05.638221",
     "exception": false,
     "start_time": "2021-03-04T01:09:05.578848",
     "status": "completed"
    },
    "tags": []
   },
   "source": [
    "The average claim cost (ultimate) is 11000. The most expensive claim = $4M."
   ]
  },
  {
   "cell_type": "code",
   "execution_count": 70,
   "metadata": {
    "execution": {
     "iopub.execute_input": "2021-08-07T15:30:00.367827Z",
     "iopub.status.busy": "2021-08-07T15:30:00.367416Z",
     "iopub.status.idle": "2021-08-07T15:30:00.416096Z",
     "shell.execute_reply": "2021-08-07T15:30:00.415306Z",
     "shell.execute_reply.started": "2021-08-07T15:30:00.367784Z"
    },
    "papermill": {
     "duration": 0.12019,
     "end_time": "2021-03-04T01:09:05.935014",
     "exception": false,
     "start_time": "2021-03-04T01:09:05.814824",
     "status": "completed"
    },
    "tags": []
   },
   "outputs": [],
   "source": [
    "# MaritalStatus: Replace missing by 'S'\n",
    "df = df.fillna('S')"
   ]
  },
  {
   "cell_type": "markdown",
   "metadata": {
    "papermill": {
     "duration": 0.057991,
     "end_time": "2021-03-04T01:09:06.051360",
     "exception": false,
     "start_time": "2021-03-04T01:09:05.993369",
     "status": "completed"
    },
    "tags": []
   },
   "source": [
    "### 1.2 Feature engineering"
   ]
  },
  {
   "cell_type": "code",
   "execution_count": 71,
   "metadata": {
    "execution": {
     "iopub.execute_input": "2021-08-07T15:30:00.418063Z",
     "iopub.status.busy": "2021-08-07T15:30:00.417594Z",
     "iopub.status.idle": "2021-08-07T15:30:00.431846Z",
     "shell.execute_reply": "2021-08-07T15:30:00.431125Z",
     "shell.execute_reply.started": "2021-08-07T15:30:00.418022Z"
    },
    "papermill": {
     "duration": 0.102145,
     "end_time": "2021-03-04T01:09:06.212645",
     "exception": false,
     "start_time": "2021-03-04T01:09:06.110500",
     "status": "completed"
    },
    "tags": []
   },
   "outputs": [],
   "source": [
    "# replace rare attributes:\n",
    "df['Gender'] = df['Gender'].replace(('U'),('S'))\n",
    "\n",
    "# wage per hour (if hours worked between 5 and 100)\n",
    "df['HourlyWages'] = np.where((df['HoursWorkedPerWeek'] >= 5.0) & (df['HoursWorkedPerWeek'] <= 100.0) , df['WeeklyWages']/df['HoursWorkedPerWeek'], -1.)\n",
    "\n",
    "### !! daily wages and annual wages, monthly\n",
    "df['DailyWages'] = np.where(df['DaysWorkedPerWeek'] > 0, df['WeeklyWages']/df['DaysWorkedPerWeek'], -1.)\n",
    "\n",
    "df['AnnualWages'] = df['WeeklyWages'] * 52\n"
   ]
  },
  {
   "cell_type": "code",
   "execution_count": 72,
   "metadata": {
    "execution": {
     "iopub.execute_input": "2021-08-07T15:30:00.433341Z",
     "iopub.status.busy": "2021-08-07T15:30:00.433026Z",
     "iopub.status.idle": "2021-08-07T15:30:01.170369Z",
     "shell.execute_reply": "2021-08-07T15:30:01.169402Z",
     "shell.execute_reply.started": "2021-08-07T15:30:00.433312Z"
    },
    "papermill": {
     "duration": 0.889903,
     "end_time": "2021-03-04T01:09:07.162519",
     "exception": false,
     "start_time": "2021-03-04T01:09:06.272616",
     "status": "completed"
    },
    "tags": []
   },
   "outputs": [],
   "source": [
    "# Claim number seems to rise with time. Extract number  \n",
    "df['ClaimNumberInt'] = df['ClaimNumber'].str[2:].astype(int)\n",
    "\n",
    "# Some date features\n",
    "df['YearOfAccident']  = pd.DatetimeIndex(df['DateTimeOfAccident']).year\n",
    "df['MonthOfAccident']  = pd.DatetimeIndex(df['DateTimeOfAccident']).month\n",
    "df['DayOfAccident']  = pd.DatetimeIndex(df['DateTimeOfAccident']).day\n",
    "df['WeekdayOfAccident']  = pd.DatetimeIndex(df['DateTimeOfAccident']).day_name()\n",
    "df['HourOfAccident']  = pd.DatetimeIndex(df['DateTimeOfAccident']).hour\n",
    "df['QuarterOfAccident']  = pd.DatetimeIndex(df['DateTimeOfAccident']).quarter   #### quarter\n",
    "\n",
    "df['YearReported']  = pd.DatetimeIndex(df['DateReported']).year\n",
    "### Report months\n",
    "\n",
    "# Reporting delay in weeks \n",
    "df['DaysReportDelay'] = pd.DatetimeIndex(df['DateReported']).date - pd.DatetimeIndex(df['DateTimeOfAccident']).date\n",
    "df['DaysReportDelay'] = (df['DaysReportDelay']  / np.timedelta64(1, 'D')).astype(int)\n",
    "\n",
    "df['WeeksReportDelay'] = np.floor(df['DaysReportDelay'] / 7.).astype(int)\n",
    "df['WeeksReportDelay'] = np.clip(df['WeeksReportDelay'], a_max=55, a_min=None)\n",
    "\n",
    "df.drop(['ClaimNumber','DateTimeOfAccident','DateReported'],axis=1,inplace=True)"
   ]
  },
  {
   "cell_type": "markdown",
   "metadata": {
    "papermill": {
     "duration": 0.059099,
     "end_time": "2021-03-04T01:09:07.280839",
     "exception": false,
     "start_time": "2021-03-04T01:09:07.221740",
     "status": "completed"
    },
    "tags": []
   },
   "source": [
    "### 1.3 Transforming  the claim costs for modeling "
   ]
  },
  {
   "cell_type": "markdown",
   "metadata": {
    "papermill": {
     "duration": 0.058199,
     "end_time": "2021-03-04T01:09:07.397837",
     "exception": false,
     "start_time": "2021-03-04T01:09:07.339638",
     "status": "completed"
    },
    "tags": []
   },
   "source": [
    "Since the claim costs are right-skewed; hence a log-transform:"
   ]
  },
  {
   "cell_type": "code",
   "execution_count": 73,
   "metadata": {
    "execution": {
     "iopub.execute_input": "2021-08-07T15:30:01.172336Z",
     "iopub.status.busy": "2021-08-07T15:30:01.171898Z",
     "iopub.status.idle": "2021-08-07T15:30:01.180201Z",
     "shell.execute_reply": "2021-08-07T15:30:01.179214Z",
     "shell.execute_reply.started": "2021-08-07T15:30:01.172291Z"
    },
    "papermill": {
     "duration": 0.073111,
     "end_time": "2021-03-04T01:09:07.533217",
     "exception": false,
     "start_time": "2021-03-04T01:09:07.460106",
     "status": "completed"
    },
    "tags": []
   },
   "outputs": [],
   "source": [
    "df[\"LogInitialIncurredCalimsCost\"] = np.log1p(df[\"InitialIncurredCalimsCost\"])\n"
   ]
  },
  {
   "cell_type": "code",
   "execution_count": 74,
   "metadata": {
    "execution": {
     "iopub.execute_input": "2021-08-07T15:30:01.181874Z",
     "iopub.status.busy": "2021-08-07T15:30:01.181439Z",
     "iopub.status.idle": "2021-08-07T15:30:01.191211Z",
     "shell.execute_reply": "2021-08-07T15:30:01.190280Z",
     "shell.execute_reply.started": "2021-08-07T15:30:01.181841Z"
    },
    "papermill": {
     "duration": 0.070009,
     "end_time": "2021-03-04T01:09:07.662373",
     "exception": false,
     "start_time": "2021-03-04T01:09:07.592364",
     "status": "completed"
    },
    "tags": []
   },
   "outputs": [],
   "source": [
    "###### Sum up Dependents and UnderAge_Ind \n",
    "df['TotalDependents'] = df['DependentChildren'] + df['DependentsOther']\n"
   ]
  },
  {
   "cell_type": "code",
   "execution_count": 75,
   "metadata": {
    "execution": {
     "iopub.execute_input": "2021-08-07T15:30:01.194205Z",
     "iopub.status.busy": "2021-08-07T15:30:01.193905Z",
     "iopub.status.idle": "2021-08-07T15:30:01.227587Z",
     "shell.execute_reply": "2021-08-07T15:30:01.226596Z",
     "shell.execute_reply.started": "2021-08-07T15:30:01.194178Z"
    },
    "papermill": {
     "duration": 0.098808,
     "end_time": "2021-03-04T01:09:07.820466",
     "exception": false,
     "start_time": "2021-03-04T01:09:07.721658",
     "status": "completed"
    },
    "tags": []
   },
   "outputs": [],
   "source": [
    "##### Label Encoding for interactions only\n",
    "gender_mapping = {'M':1, 'F':2, 'S':3}\n",
    "marital_mapping = {'S':1, 'M':2, 'U':3}\n",
    "partfull_mapping = {'F': 1, 'P': 2}\n",
    "\n",
    "###### Dummy cat vars:\n",
    "df['GenderMarital_int'] = df['Gender'].map(gender_mapping) * df['MaritalStatus'].map(marital_mapping)\n",
    "df['PartFullMarital_int'] = df['PartTimeFullTime'].map(partfull_mapping) * df['MaritalStatus'].map(marital_mapping)\n"
   ]
  },
  {
   "cell_type": "code",
   "execution_count": 76,
   "metadata": {
    "execution": {
     "iopub.execute_input": "2021-08-07T15:30:01.230337Z",
     "iopub.status.busy": "2021-08-07T15:30:01.229914Z",
     "iopub.status.idle": "2021-08-07T15:30:01.237842Z",
     "shell.execute_reply": "2021-08-07T15:30:01.236557Z",
     "shell.execute_reply.started": "2021-08-07T15:30:01.230293Z"
    },
    "papermill": {
     "duration": 0.071071,
     "end_time": "2021-03-04T01:09:08.073317",
     "exception": false,
     "start_time": "2021-03-04T01:09:08.002246",
     "status": "completed"
    },
    "tags": []
   },
   "outputs": [],
   "source": [
    "# Generate a list of numerical variables, remove claim cost variables\n",
    "num_list = [c for c in df.columns if((df[c].dtype != np.object) and not \"Cost\" in c)]\n",
    "\n",
    "# List of features with to many different values\n",
    "num_list_bins = ['HoursWorkedPerWeek','WeeklyWages','HourlyWages','ClaimNumberInt']\n",
    "\n",
    "# Generate a list of the remaining numerical variables (without binned or cost variables)\n",
    "num_list_nobins = [c for c in num_list if(c not in num_list_bins)] \n"
   ]
  },
  {
   "cell_type": "code",
   "execution_count": 77,
   "metadata": {
    "execution": {
     "iopub.execute_input": "2021-08-07T15:30:01.239566Z",
     "iopub.status.busy": "2021-08-07T15:30:01.239158Z",
     "iopub.status.idle": "2021-08-07T15:30:01.377773Z",
     "shell.execute_reply": "2021-08-07T15:30:01.376732Z",
     "shell.execute_reply.started": "2021-08-07T15:30:01.239522Z"
    },
    "papermill": {
     "duration": 0.211625,
     "end_time": "2021-03-04T01:09:08.581984",
     "exception": false,
     "start_time": "2021-03-04T01:09:08.370359",
     "status": "completed"
    },
    "tags": []
   },
   "outputs": [],
   "source": [
    "# Generate a list of categorical variables and remove those with too many different values (e.g. 'ClaimDescription')\n",
    "cat_list = [c for c in df.columns if( (df[c].dtype == np.object) & (df[c].value_counts().count() <= 25) )] \n"
   ]
  },
  {
   "cell_type": "markdown",
   "metadata": {
    "papermill": {
     "duration": 0.058724,
     "end_time": "2021-03-04T01:09:08.699704",
     "exception": false,
     "start_time": "2021-03-04T01:09:08.640980",
     "status": "completed"
    },
    "tags": []
   },
   "source": [
    "### 1.4 Simple text processing"
   ]
  },
  {
   "cell_type": "code",
   "execution_count": 78,
   "metadata": {
    "execution": {
     "iopub.execute_input": "2021-08-07T15:30:01.379333Z",
     "iopub.status.busy": "2021-08-07T15:30:01.379024Z",
     "iopub.status.idle": "2021-08-07T15:30:01.383983Z",
     "shell.execute_reply": "2021-08-07T15:30:01.382977Z",
     "shell.execute_reply.started": "2021-08-07T15:30:01.379305Z"
    },
    "papermill": {
     "duration": 0.066913,
     "end_time": "2021-03-04T01:09:08.825727",
     "exception": false,
     "start_time": "2021-03-04T01:09:08.758814",
     "status": "completed"
    },
    "tags": []
   },
   "outputs": [],
   "source": [
    "vars = ['UltimateIncurredClaimCost','ClaimDescription']\n"
   ]
  },
  {
   "cell_type": "code",
   "execution_count": 79,
   "metadata": {
    "execution": {
     "iopub.execute_input": "2021-08-07T15:30:01.385525Z",
     "iopub.status.busy": "2021-08-07T15:30:01.385190Z",
     "iopub.status.idle": "2021-08-07T15:30:02.677583Z",
     "shell.execute_reply": "2021-08-07T15:30:02.676836Z",
     "shell.execute_reply.started": "2021-08-07T15:30:01.385494Z"
    },
    "papermill": {
     "duration": 1.45037,
     "end_time": "2021-03-04T01:09:10.463511",
     "exception": false,
     "start_time": "2021-03-04T01:09:09.013141",
     "status": "completed"
    },
    "tags": []
   },
   "outputs": [],
   "source": [
    "# search for some words and create new features\n",
    "text = ['NECK','BACK','KNEE','EYE', 'FINGER','STRUCK','HAMMER','LADDER','STAIR', 'FELT', 'TRUCK','MOTOR','TRAUMA', \n",
    "        'FELL', 'LIFT', 'CUT'] \n",
    "\n",
    "for name in text:\n",
    "    df['CD_' + name] = np.where( (df['ClaimDescription'].str.find(name) < 0), 0, 1)\n",
    "\n",
    "# some two or tree word features\n",
    "df['CD_FOREIGN_BODY'] = np.where( (df['ClaimDescription'].str.find('FOREIGN BODY') < 0), 0, 1)\n",
    "df['CD_BACK_STRAIN']  = np.where( (df['ClaimDescription'].str.find('BACK STRAIN') < 0), 0, 1)\n",
    "\n",
    "df['CD_SOFT_TISSUE_'] = np.where( (df['ClaimDescription'].str.find('SOFT TISSUE') < 0), 0, 1)\n",
    "df['CD_WORKPLACE_STRESS'] = np.where( ((df['ClaimDescription'].str.find('WORKPLACE STRESS') > 0) | (df['ClaimDescription'].str.find('STRESS') > 0)), 1, 0)\n",
    "\n",
    "df['CD_LOWER_BACK_STRAIN'] = np.where( (df['ClaimDescription'].str.find('LOWER BACK STRAIN') < 0), 0, 1)\n",
    "\n",
    "# body side, lacerated/laceration:\n",
    "df['CD_LEFT_RIGHT'] = np.where( ((df['ClaimDescription'].str.find('LEFT') < 0) & (df['ClaimDescription'].str.find('RIGHT') < 0)), 0, 1)\n",
    "df['CD_LACERAT_'] = np.where( (df['ClaimDescription'].str.find('LACERAT') < 0), 0, 1)\n"
   ]
  },
  {
   "cell_type": "code",
   "execution_count": 80,
   "metadata": {
    "execution": {
     "iopub.execute_input": "2021-08-07T15:30:02.678980Z",
     "iopub.status.busy": "2021-08-07T15:30:02.678590Z",
     "iopub.status.idle": "2021-08-07T15:30:02.693295Z",
     "shell.execute_reply": "2021-08-07T15:30:02.692199Z",
     "shell.execute_reply.started": "2021-08-07T15:30:02.678952Z"
    },
    "papermill": {
     "duration": 0.321004,
     "end_time": "2021-03-04T01:09:10.858161",
     "exception": false,
     "start_time": "2021-03-04T01:09:10.537157",
     "status": "completed"
    },
    "tags": []
   },
   "outputs": [],
   "source": [
    "#### Try target encoding for the Claims descriptions\n",
    "import requests\n",
    "from bs4 import BeautifulSoup\n",
    "\n",
    "# ## Load the body parts list\n",
    "# page = requests.get(\"https://www.enchantedlearning.com/wordlist/body.shtml\")\n",
    "# ## page content\n",
    "# soup = BeautifulSoup(page.content, 'html.parser')\n",
    "\n",
    "# word_list = soup.find_all('div', class_='wordlist-item')\n",
    "# word_list_short = [str(i).split('>')[1] for i in word_list]\n",
    "# current_body_parts_list = [i.lower().split('<')[0] for i in word_list_short]\n",
    "### hard code in \n",
    "current_body_parts_list = ['abdomen', \"adam's apple\", 'adenoids', 'adrenal gland', 'anatomy', 'ankle', 'anus', 'appendix', 'arch', 'arm', 'artery', 'back', 'ball of the foot', 'belly', 'belly button', 'big toe', 'bladder', 'blood', \n",
    "                           'blood vessels', 'body', 'bone', 'brain', 'breast', 'buttocks', 'calf', 'capillary', 'carpal', 'cartilage', 'cell', 'cervical vertebrae', 'cheek', 'chest', 'chin', 'circulatory system', 'clavicle', 'coccyx', \n",
    "                           'collar bone', 'diaphragm', 'digestive system', 'ear', 'ear lobe', 'elbow', 'endocrine system', 'esophagus', 'eye', 'eyebrow', 'eyelashes', 'eyelid', 'face', 'fallopian tubes', 'feet', 'femur', 'fibula', 'filling', \n",
    "                           'finger', 'fingernail', 'follicle', 'foot', 'forehead', 'gallbladder', 'glands', 'groin', 'gums', 'hair', 'hand', 'head', 'heart', 'heel', 'hip', 'humerus', 'immune system', 'index finger', 'instep', 'intestines', \n",
    "                           'iris', 'jaw', 'kidney', 'knee', 'larynx', 'leg', 'ligament', 'lip', 'liver', 'lobe', 'lumbar vertebrae', 'lungs', 'lymph node', 'mandible', 'metacarpal', 'metatarsal', 'molar', 'mouth', 'muscle', 'nail', 'navel', \n",
    "                           'neck', 'nerves', 'nipple', 'nose', 'nostril', 'organs', 'ovary', 'palm', 'pancreas', 'patella', 'pelvis', 'phalanges', 'pharynx', 'pinky', 'pituitary', 'pore', 'pupil', 'radius', 'rectum', 'red blood cells', \n",
    "                           'respiratory system', 'ribs', 'sacrum', 'scalp', 'scapula', 'senses', 'shin', 'shoulder', 'shoulder blade', 'skeleton', 'skin', 'skull', 'sole', 'spinal column', 'lumbar', 'spine', 'spleen', 'sternum', 'stomach', \n",
    "                           'tarsal', 'teeth', 'tendon', 'testes', 'thigh', 'thorax', 'throat', 'thumb', 'thyroid', 'tibia', 'tissue', \n",
    "                            'toe', 'toenail', 'tongue', 'tonsils', 'tooth', 'torso', 'trachea', 'ulna', 'ureter', 'urethra', 'urinary system', 'uterus', 'uvula', 'vein', 'vertebra', 'waist', 'white blood cells', 'wrist']\n",
    "body_parts_to_add = ['feet', 'hands', 'wrists', 'kidneys', 'lungs', \n",
    "                      'teeth', 'shoulders', 'fingers', 'knees', \n",
    "                      'toes', 'arms', 'eyes', 'ears','legs', 'ankles']\n",
    "\n",
    "body_parts_to_remove = ['artery', 'ball of the foot', 'blood', 'blood vessels', 'body',\n",
    "                        'cell', 'cervical vertebrae', \n",
    "                        'index finger', 'big toe',  \n",
    "                        'lobe',\n",
    "                        'muscle',\n",
    "                        'red blood cells', 'white blood cells', 'filling'              \n",
    "                        ]\n",
    "\n",
    "\n",
    "for b in body_parts_to_add:\n",
    "    if b not in current_body_parts_list:\n",
    "        current_body_parts_list.append(b)\n",
    "\n",
    "for b in body_parts_to_remove:\n",
    "    if b in current_body_parts_list:\n",
    "        current_body_parts_list.remove(b)\n",
    "        \n",
    "        \n",
    "##### Match the Claims Descriptions with the body parts list \n",
    "accident = ['STRUCK','HAMMER','LADDER','STAIR','FELT','TRUCK','MOTOR']\n"
   ]
  },
  {
   "cell_type": "code",
   "execution_count": 81,
   "metadata": {
    "execution": {
     "iopub.execute_input": "2021-08-07T15:30:02.694833Z",
     "iopub.status.busy": "2021-08-07T15:30:02.694555Z",
     "iopub.status.idle": "2021-08-07T15:34:03.260162Z",
     "shell.execute_reply": "2021-08-07T15:34:03.258977Z",
     "shell.execute_reply.started": "2021-08-07T15:30:02.694807Z"
    },
    "papermill": {
     "duration": 185.449378,
     "end_time": "2021-03-04T01:12:16.367939",
     "exception": false,
     "start_time": "2021-03-04T01:09:10.918561",
     "status": "completed"
    },
    "tags": []
   },
   "outputs": [
    {
     "name": "stderr",
     "output_type": "stream",
     "text": [
      "\n",
      "A value is trying to be set on a copy of a slice from a DataFrame\n",
      "\n",
      "See the caveats in the documentation: https://pandas.pydata.org/pandas-docs/stable/user_guide/indexing.html#returning-a-view-versus-a-copy\n"
     ]
    },
    {
     "name": "stdout",
     "output_type": "stream",
     "text": [
      "== Done extracting the key words ==\n"
     ]
    }
   ],
   "source": [
    "##### Body parts + Cause of Injury (verbs)\n",
    "df['BodyParts'] = 'Unknown'\n",
    "df['BodyParts_Minor'] = 'Unknown'\n",
    "df['BodyParts_Minor2'] = 'Unknown'\n",
    "\n",
    "df['CauseOfInjury'] = 'Unknown'\n",
    "df['CauseOfInjury_Minor'] = 'Unknown'\n",
    "\n",
    "row = 0\n",
    "\n",
    "for j in df['ClaimDescription']:\n",
    "        \n",
    "    find_body_parts = [i for i in current_body_parts_list if i.upper() in j.split()]    \n",
    "   \n",
    "    #### find verbs\n",
    "    words = j.lower().split()\n",
    "    tags = nltk.pos_tag(words)\n",
    "    all_verbs = [tag[0] for tag in tags if tag[1].startswith('VB')]\n",
    "    \n",
    "    ###### if no verbs tagged by NLTK, try spacy\n",
    "    if len(all_verbs) == 0:\n",
    "        sen = sp(j.lower())\n",
    "        spacy_tags = [(sen.text.split()[i], sen[i].pos_) for i in range(len(sen.text.split()))]        \n",
    "        spacy_tags = [tag[0] for tag in spacy_tags if tag[1].startswith('VERB')]    \n",
    "        if len(spacy_tags) >= 1:\n",
    "            all_verbs = spacy_tags        \n",
    "    \n",
    "    if len(all_verbs) >= 1:\n",
    "        find_verbs = [WordNetLemmatizer().lemmatize(word,'v') for word in all_verbs]\n",
    "        if len(find_verbs) == 1:\n",
    "            df['CauseOfInjury'].iloc[row] = find_verbs[0]\n",
    "        else:\n",
    "            df['CauseOfInjury'].iloc[row] = find_verbs[0]\n",
    "            df['CauseOfInjury_Minor'].iloc[row] = find_verbs[1]           \n",
    "  \n",
    "    \n",
    "    #### find body parts\n",
    "    try:\n",
    "        if len(find_body_parts) == 1:\n",
    "            df['BodyParts'].iloc[row] = find_body_parts[0]\n",
    "        elif len(find_body_parts) == 2:\n",
    "            df['BodyParts'].iloc[row] = find_body_parts[0]\n",
    "            df['BodyParts_Minor'].iloc[row] = find_body_parts[1]\n",
    "        else:\n",
    "            df['BodyParts'].iloc[row] = find_body_parts[0]\n",
    "            df['BodyParts_Minor'].iloc[row] = find_body_parts[1]\n",
    "            df['BodyParts_Minor2'].iloc[row] = find_body_parts[2]            \n",
    "        row += 1\n",
    "    except:\n",
    "        acct = [i for i in accident if i in j.split()]\n",
    "        \n",
    "        if 'FOREIGN BODY' in j:\n",
    "            df['BodyParts'].iloc[row] = 'foreign_body'\n",
    "        elif 'TRAUMA' in j:\n",
    "            df['BodyParts'].iloc[row] = 'stress'\n",
    "        elif 'CARPEL' in j:\n",
    "            df['BodyParts'].iloc[row] = 'wrist'\n",
    "        elif len(acct) > 0:\n",
    "            df['BodyParts'].iloc[row] = 'external'\n",
    "        row += 1\n",
    "        continue\n",
    "\n",
    "\n",
    "df['CauseOfInjury'] = np.where(df['CauseOfInjury']=='fell', 'fall', df['CauseOfInjury'])\n",
    "\n",
    "encoding_cause_of_injury = [k for k,v in Counter(df['CauseOfInjury']).items() if v>=100]\n",
    "df['CauseOfInjury'] = np.where(df['CauseOfInjury'].isin(encoding_cause_of_injury) & (df['CauseOfInjury'] != 'Unknown'), df['CauseOfInjury'], 'Others')\n",
    "print('== Done extracting the key words ==')"
   ]
  },
  {
   "cell_type": "code",
   "execution_count": 82,
   "metadata": {
    "execution": {
     "iopub.execute_input": "2021-08-07T15:34:03.262113Z",
     "iopub.status.busy": "2021-08-07T15:34:03.261707Z",
     "iopub.status.idle": "2021-08-07T15:34:03.346838Z",
     "shell.execute_reply": "2021-08-07T15:34:03.345895Z",
     "shell.execute_reply.started": "2021-08-07T15:34:03.262071Z"
    },
    "papermill": {
     "duration": 0.145604,
     "end_time": "2021-03-04T01:12:16.574110",
     "exception": false,
     "start_time": "2021-03-04T01:12:16.428506",
     "status": "completed"
    },
    "tags": []
   },
   "outputs": [],
   "source": [
    "##### Simple search on a few \n",
    "cause_text =  ['drive', 'bend', 'lift', 'burn']\n",
    "\n",
    "for name in cause_text:\n",
    "    df['CD_' + name] = np.where(df['CauseOfInjury']==name, 1, 0)  ### !!!! positive relation\n",
    "\n",
    "df.drop(['CauseOfInjury_Minor'], axis=1, inplace=True)\n"
   ]
  },
  {
   "cell_type": "markdown",
   "metadata": {
    "papermill": {
     "duration": 0.059147,
     "end_time": "2021-03-04T01:12:16.693102",
     "exception": false,
     "start_time": "2021-03-04T01:12:16.633955",
     "status": "completed"
    },
    "tags": []
   },
   "source": [
    "### 1.5 Clipping the extreme outlier"
   ]
  },
  {
   "cell_type": "code",
   "execution_count": 83,
   "metadata": {
    "execution": {
     "iopub.execute_input": "2021-08-07T15:34:03.348576Z",
     "iopub.status.busy": "2021-08-07T15:34:03.348264Z",
     "iopub.status.idle": "2021-08-07T15:34:03.354483Z",
     "shell.execute_reply": "2021-08-07T15:34:03.353446Z",
     "shell.execute_reply.started": "2021-08-07T15:34:03.348545Z"
    },
    "papermill": {
     "duration": 0.072794,
     "end_time": "2021-03-04T01:12:16.954361",
     "exception": false,
     "start_time": "2021-03-04T01:12:16.881567",
     "status": "completed"
    },
    "tags": []
   },
   "outputs": [],
   "source": [
    "## Clip the outlier\n",
    "df['UltimateIncurredClaimCost'] = np.where(df['UltimateIncurredClaimCost'] > 1000000, 1000000., df['UltimateIncurredClaimCost'])"
   ]
  },
  {
   "cell_type": "markdown",
   "metadata": {
    "papermill": {
     "duration": 0.058887,
     "end_time": "2021-03-04T01:12:17.073087",
     "exception": false,
     "start_time": "2021-03-04T01:12:17.014200",
     "status": "completed"
    },
    "tags": []
   },
   "source": [
    "### 1.6 Defining the target variable: LogUltimateIncurredClaimCost\n"
   ]
  },
  {
   "cell_type": "code",
   "execution_count": 84,
   "metadata": {
    "execution": {
     "iopub.execute_input": "2021-08-07T15:34:03.356093Z",
     "iopub.status.busy": "2021-08-07T15:34:03.355793Z",
     "iopub.status.idle": "2021-08-07T15:34:03.384027Z",
     "shell.execute_reply": "2021-08-07T15:34:03.383245Z",
     "shell.execute_reply.started": "2021-08-07T15:34:03.356063Z"
    },
    "papermill": {
     "duration": 0.086809,
     "end_time": "2021-03-04T01:12:17.219177",
     "exception": false,
     "start_time": "2021-03-04T01:12:17.132368",
     "status": "completed"
    },
    "tags": []
   },
   "outputs": [],
   "source": [
    "# To avoid confusion (e.g. log or untransformed), we give the target a new name: loss\n",
    "df['loss'] = np.log1p(df[\"UltimateIncurredClaimCost\"])\n",
    "df.drop(['UltimateIncurredClaimCost'], axis=1, inplace=True)"
   ]
  },
  {
   "cell_type": "code",
   "execution_count": 85,
   "metadata": {
    "execution": {
     "iopub.execute_input": "2021-08-07T15:34:03.385875Z",
     "iopub.status.busy": "2021-08-07T15:34:03.385344Z",
     "iopub.status.idle": "2021-08-07T15:34:03.392760Z",
     "shell.execute_reply": "2021-08-07T15:34:03.391915Z",
     "shell.execute_reply.started": "2021-08-07T15:34:03.385842Z"
    },
    "papermill": {
     "duration": 0.072649,
     "end_time": "2021-03-04T01:12:17.352605",
     "exception": false,
     "start_time": "2021-03-04T01:12:17.279956",
     "status": "completed"
    },
    "tags": []
   },
   "outputs": [],
   "source": [
    "##### Add Severity Indicator as a binary \n",
    "quant_95 = np.percentile(df['LogInitialIncurredCalimsCost'], 95) \n",
    "df['Severity_Ind'] = np.where(df['LogInitialIncurredCalimsCost'] >= quant_95, 1, 0)"
   ]
  },
  {
   "cell_type": "code",
   "execution_count": 86,
   "metadata": {
    "execution": {
     "iopub.execute_input": "2021-08-07T15:34:03.394823Z",
     "iopub.status.busy": "2021-08-07T15:34:03.394206Z",
     "iopub.status.idle": "2021-08-07T15:34:03.546449Z",
     "shell.execute_reply": "2021-08-07T15:34:03.545624Z",
     "shell.execute_reply.started": "2021-08-07T15:34:03.394772Z"
    },
    "papermill": {
     "duration": 0.264707,
     "end_time": "2021-03-04T01:12:17.676940",
     "exception": false,
     "start_time": "2021-03-04T01:12:17.412233",
     "status": "completed"
    },
    "tags": []
   },
   "outputs": [],
   "source": [
    "###### Standardize InitialClaimCost group by Year \n",
    "standard_by_year = df.groupby('YearOfAccident')['InitialIncurredCalimsCost'].agg([\"mean\", \"std\"]).reset_index()\n",
    "df = df.merge(standard_by_year, how='left', on='YearOfAccident')\n",
    "\n",
    "df['InitialIncurred_std'] = (df['InitialIncurredCalimsCost']-df['mean'])/df['std']\n",
    "df.drop(['mean', 'std'], axis=1, inplace=True)\n",
    "\n",
    "###### Add YearReportDelay\n",
    "df[\"YearReportDelay\"] = df['YearReported'] - df['YearOfAccident']\n",
    "df[\"YearReportDelay\"].clip(0, 1, inplace=True)\n"
   ]
  },
  {
   "cell_type": "code",
   "execution_count": 87,
   "metadata": {
    "execution": {
     "iopub.execute_input": "2021-08-07T15:34:03.548394Z",
     "iopub.status.busy": "2021-08-07T15:34:03.547771Z",
     "iopub.status.idle": "2021-08-07T15:34:03.577123Z",
     "shell.execute_reply": "2021-08-07T15:34:03.576387Z",
     "shell.execute_reply.started": "2021-08-07T15:34:03.548349Z"
    },
    "papermill": {
     "duration": 0.104051,
     "end_time": "2021-03-04T01:12:17.841490",
     "exception": false,
     "start_time": "2021-03-04T01:12:17.737439",
     "status": "completed"
    },
    "tags": []
   },
   "outputs": [],
   "source": [
    "#### ! Center the variables\n",
    "center_vars = ['Age', 'WeeklyWages', 'HoursWorkedPerWeek', 'HourlyWages', 'DaysReportDelay', 'ClaimNumberInt', 'DailyWages', 'AnnualWages'] \n",
    "\n",
    "for i in center_vars:\n",
    "    m, sd = np.mean(df[i]), np.std(df[i])\n",
    "    df[i] = (df[i]-m)/sd    \n"
   ]
  },
  {
   "cell_type": "markdown",
   "metadata": {
    "papermill": {
     "duration": 0.06072,
     "end_time": "2021-03-04T01:12:17.962816",
     "exception": false,
     "start_time": "2021-03-04T01:12:17.902096",
     "status": "completed"
    },
    "tags": []
   },
   "source": [
    "<a id=\"ch2\"></a>\n",
    "## 2.  Data preprocessing for modeling"
   ]
  },
  {
   "cell_type": "markdown",
   "metadata": {
    "papermill": {
     "duration": 0.060482,
     "end_time": "2021-03-04T01:12:18.084599",
     "exception": false,
     "start_time": "2021-03-04T01:12:18.024117",
     "status": "completed"
    },
    "tags": []
   },
   "source": [
    "### 2.1 Test data feature engineering \n",
    "\n",
    "If time permits, this can be wrapped in a class object together with the training data preprocessing.\n"
   ]
  },
  {
   "cell_type": "code",
   "execution_count": 88,
   "metadata": {
    "execution": {
     "iopub.execute_input": "2021-08-07T15:34:03.579001Z",
     "iopub.status.busy": "2021-08-07T15:34:03.578406Z",
     "iopub.status.idle": "2021-08-07T15:34:03.751287Z",
     "shell.execute_reply": "2021-08-07T15:34:03.750103Z",
     "shell.execute_reply.started": "2021-08-07T15:34:03.578957Z"
    },
    "papermill": {
     "duration": 0.317824,
     "end_time": "2021-03-04T01:12:18.462640",
     "exception": false,
     "start_time": "2021-03-04T01:12:18.144816",
     "status": "completed"
    },
    "tags": []
   },
   "outputs": [
    {
     "name": "stdout",
     "output_type": "stream",
     "text": [
      "Number of rows and columns: (36000, 14)\n"
     ]
    }
   ],
   "source": [
    "# read test data\n",
    "df_test = pd.read_csv('../input/actuarial-loss-estimation/test.csv')\n",
    "df_test.drop_duplicates(inplace=True)\n",
    "print('Number of rows and columns:', df_test.shape)"
   ]
  },
  {
   "cell_type": "code",
   "execution_count": 89,
   "metadata": {
    "execution": {
     "iopub.execute_input": "2021-08-07T15:34:03.752958Z",
     "iopub.status.busy": "2021-08-07T15:34:03.752653Z",
     "iopub.status.idle": "2021-08-07T15:34:03.760868Z",
     "shell.execute_reply": "2021-08-07T15:34:03.759818Z",
     "shell.execute_reply.started": "2021-08-07T15:34:03.752926Z"
    },
    "papermill": {
     "duration": 0.073878,
     "end_time": "2021-03-04T01:12:18.597555",
     "exception": false,
     "start_time": "2021-03-04T01:12:18.523677",
     "status": "completed"
    },
    "tags": []
   },
   "outputs": [],
   "source": [
    "min_val = np.min(df_test.loc[(df_test['InitialIncurredCalimsCost'] != 1), 'InitialIncurredCalimsCost'])\n",
    "df_test.loc[(df_test['InitialIncurredCalimsCost'] == 1), 'InitialIncurredCalimsCost'] = min_val\n"
   ]
  },
  {
   "cell_type": "code",
   "execution_count": 90,
   "metadata": {
    "execution": {
     "iopub.execute_input": "2021-08-07T15:34:03.765621Z",
     "iopub.status.busy": "2021-08-07T15:34:03.765318Z",
     "iopub.status.idle": "2021-08-07T15:34:04.306662Z",
     "shell.execute_reply": "2021-08-07T15:34:04.305814Z",
     "shell.execute_reply.started": "2021-08-07T15:34:03.765592Z"
    },
    "papermill": {
     "duration": 0.672351,
     "end_time": "2021-03-04T01:12:19.330237",
     "exception": false,
     "start_time": "2021-03-04T01:12:18.657886",
     "status": "completed"
    },
    "tags": []
   },
   "outputs": [],
   "source": [
    "# MaritalStatus: Replace NaN by 'S'\n",
    "df_test = df_test.fillna('S')\n",
    "\n",
    "# group/cut rare attributes:\n",
    "df_test['Gender'] = df_test['Gender'].replace(('U'),('S'))\n",
    "\n",
    "# wage per hour (if hours worked between 5 and 100) \n",
    "df_test['HourlyWages'] = np.where((df_test['HoursWorkedPerWeek'] >= 5.0) & (df_test['HoursWorkedPerWeek'] <= 100.0) , df_test['WeeklyWages']/df_test['HoursWorkedPerWeek'],-1.)\n",
    "\n",
    "df_test['DailyWages'] = np.where(df_test['DaysWorkedPerWeek'] > 0, df_test['WeeklyWages']/df_test['DaysWorkedPerWeek'], -1.)  ## daily wages\n",
    "df_test['AnnualWages'] = df_test['WeeklyWages'] * 52  ## annual wages\n",
    "\n",
    "# Claim number seems to rise with time. Extract number  \n",
    "df_test['ClaimNumberInt'] = df_test['ClaimNumber'].str[2:].astype(int)\n",
    "\n",
    "\n",
    "# Some date features\n",
    "df_test['YearOfAccident']  = pd.DatetimeIndex(df_test['DateTimeOfAccident']).year\n",
    "df_test['MonthOfAccident']  = pd.DatetimeIndex(df_test['DateTimeOfAccident']).month\n",
    "df_test['DayOfAccident']  = pd.DatetimeIndex(df_test['DateTimeOfAccident']).day\n",
    "df_test['WeekdayOfAccident']  = pd.DatetimeIndex(df_test['DateTimeOfAccident']).day_name()\n",
    "df_test['QuarterOfAccident']  = pd.DatetimeIndex(df_test['DateTimeOfAccident']).quarter   #### quarter!!!\n",
    "df_test['HourOfAccident']  = pd.DatetimeIndex(df_test['DateTimeOfAccident']).hour\n",
    "\n",
    "df_test['YearReported']  = pd.DatetimeIndex(df_test['DateReported']).year\n",
    "\n",
    "# Reporting delay in weeks \n",
    "df_test['DaysReportDelay'] = pd.DatetimeIndex(df_test['DateReported']).date - pd.DatetimeIndex(df_test['DateTimeOfAccident']).date\n",
    "df_test['DaysReportDelay'] = (df_test['DaysReportDelay']  / np.timedelta64(1, 'D')).astype(int)\n",
    "df_test['WeeksReportDelay'] = np.floor(df_test['DaysReportDelay'] / 7.).astype(int)\n",
    "df_test['WeeksReportDelay'] = np.clip(df_test['WeeksReportDelay'], a_max=55, a_min=None)\n",
    "\n",
    "\n",
    "#Save the ClaimNumbers \n",
    "ID = df_test['ClaimNumber']\n",
    "\n",
    "# drop columns\n",
    "df_test.drop(['ClaimNumber','DateTimeOfAccident','DateReported'],axis=1,inplace=True)\n",
    "\n",
    "# The log1p function applies log(1+x) to all elements of the column\n",
    "df_test[\"LogInitialIncurredCalimsCost\"] = np.log1p(df_test[\"InitialIncurredCalimsCost\"])\n",
    "\n"
   ]
  },
  {
   "cell_type": "code",
   "execution_count": 91,
   "metadata": {
    "execution": {
     "iopub.execute_input": "2021-08-07T15:34:04.309172Z",
     "iopub.status.busy": "2021-08-07T15:34:04.308564Z",
     "iopub.status.idle": "2021-08-07T15:34:04.314500Z",
     "shell.execute_reply": "2021-08-07T15:34:04.313757Z",
     "shell.execute_reply.started": "2021-08-07T15:34:04.309111Z"
    },
    "papermill": {
     "duration": 0.071137,
     "end_time": "2021-03-04T01:12:19.463445",
     "exception": false,
     "start_time": "2021-03-04T01:12:19.392308",
     "status": "completed"
    },
    "tags": []
   },
   "outputs": [],
   "source": [
    "###### Sum up Dependents and UnderAge_Ind \n",
    "df_test['TotalDependents'] = df_test['DependentChildren'] + df_test['DependentsOther']\n"
   ]
  },
  {
   "cell_type": "code",
   "execution_count": 92,
   "metadata": {
    "execution": {
     "iopub.execute_input": "2021-08-07T15:34:04.316058Z",
     "iopub.status.busy": "2021-08-07T15:34:04.315621Z",
     "iopub.status.idle": "2021-08-07T15:34:04.375232Z",
     "shell.execute_reply": "2021-08-07T15:34:04.374419Z",
     "shell.execute_reply.started": "2021-08-07T15:34:04.316020Z"
    },
    "papermill": {
     "duration": 0.123933,
     "end_time": "2021-03-04T01:12:19.648202",
     "exception": false,
     "start_time": "2021-03-04T01:12:19.524269",
     "status": "completed"
    },
    "tags": []
   },
   "outputs": [],
   "source": [
    "###### Standardize InitialClaimCost group by Year \n",
    "standard_by_year = df_test.groupby('YearOfAccident')['InitialIncurredCalimsCost'].agg([\"mean\", \"std\"]).reset_index()\n",
    "df_test = df_test.merge(standard_by_year, how='left', on='YearOfAccident')\n",
    "\n",
    "df_test['InitialIncurred_std'] = (df_test['InitialIncurredCalimsCost']-df_test['mean'])/df_test['std']\n",
    "df_test.drop(['mean', 'std'], axis=1, inplace=True)\n",
    "\n",
    "###### Add YearReportDelay\n",
    "df_test[\"YearReportDelay\"] = df_test['YearReported'] - df_test['YearOfAccident']\n",
    "df_test[\"YearReportDelay\"].clip(0, 1, inplace=True)\n"
   ]
  },
  {
   "cell_type": "code",
   "execution_count": 93,
   "metadata": {
    "execution": {
     "iopub.execute_input": "2021-08-07T15:34:04.376778Z",
     "iopub.status.busy": "2021-08-07T15:34:04.376330Z",
     "iopub.status.idle": "2021-08-07T15:34:04.393495Z",
     "shell.execute_reply": "2021-08-07T15:34:04.392236Z",
     "shell.execute_reply.started": "2021-08-07T15:34:04.376729Z"
    },
    "papermill": {
     "duration": 0.087841,
     "end_time": "2021-03-04T01:12:19.797287",
     "exception": false,
     "start_time": "2021-03-04T01:12:19.709446",
     "status": "completed"
    },
    "tags": []
   },
   "outputs": [],
   "source": [
    "#### Center the vars\n",
    "for i in center_vars:\n",
    "    m, sd = np.mean(df_test[i]), np.std(df_test[i])\n",
    "    df_test[i] = (df_test[i]-m)/sd\n"
   ]
  },
  {
   "cell_type": "code",
   "execution_count": 94,
   "metadata": {
    "execution": {
     "iopub.execute_input": "2021-08-07T15:34:04.395019Z",
     "iopub.status.busy": "2021-08-07T15:34:04.394719Z",
     "iopub.status.idle": "2021-08-07T15:34:04.401956Z",
     "shell.execute_reply": "2021-08-07T15:34:04.400803Z",
     "shell.execute_reply.started": "2021-08-07T15:34:04.394986Z"
    },
    "papermill": {
     "duration": 0.07418,
     "end_time": "2021-03-04T01:12:19.932247",
     "exception": false,
     "start_time": "2021-03-04T01:12:19.858067",
     "status": "completed"
    },
    "tags": []
   },
   "outputs": [],
   "source": [
    "##### Add Severity Indicator as a binary \n",
    "quant_95 = np.percentile(df_test['LogInitialIncurredCalimsCost'], 95) \n",
    "df_test['Severity_Ind'] = np.where(df_test['LogInitialIncurredCalimsCost'] >= quant_95, 1, 0)\n"
   ]
  },
  {
   "cell_type": "code",
   "execution_count": 95,
   "metadata": {
    "execution": {
     "iopub.execute_input": "2021-08-07T15:34:04.403551Z",
     "iopub.status.busy": "2021-08-07T15:34:04.403240Z",
     "iopub.status.idle": "2021-08-07T15:34:05.275907Z",
     "shell.execute_reply": "2021-08-07T15:34:05.274890Z",
     "shell.execute_reply.started": "2021-08-07T15:34:04.403521Z"
    },
    "papermill": {
     "duration": 1.003562,
     "end_time": "2021-03-04T01:12:20.997129",
     "exception": false,
     "start_time": "2021-03-04T01:12:19.993567",
     "status": "completed"
    },
    "tags": []
   },
   "outputs": [],
   "source": [
    "## Simple Text processing \n",
    "for name in text:\n",
    "    df_test['CD_' + name] = np.where( (df_test['ClaimDescription'].str.find(name) < 0), 0, 1)\n",
    "\n",
    "# some two or tree word features\n",
    "df_test['CD_FOREIGN_BODY'] = np.where( (df_test['ClaimDescription'].str.find('FOREIGN BODY') < 0), 0, 1)\n",
    "df_test['CD_BACK_STRAIN']  = np.where( (df_test['ClaimDescription'].str.find('BACK STRAIN') < 0), 0, 1)\n",
    "df_test['CD_SOFT_TISSUE_'] = np.where( (df_test['ClaimDescription'].str.find('SOFT TISSUE') < 0), 0, 1)\n",
    "df_test['CD_WORKPLACE_STRESS'] = np.where( ((df_test['ClaimDescription'].str.find('WORKPLACE STRESS') > 0) | (df_test['ClaimDescription'].str.find('STRESS') > 0)), 1, 0)\n",
    "df_test['CD_LOWER_BACK_STRAIN'] = np.where( (df_test['ClaimDescription'].str.find('LOWER BACK STRAIN') < 0), 0, 1)\n",
    "\n",
    "# body side, lacerated/laceration:\n",
    "df_test['CD_LEFT_RIGHT'] = np.where( ((df_test['ClaimDescription'].str.find('LEFT') < 0) & (df_test['ClaimDescription'].str.find('RIGHT') < 0)), 0, 1)\n",
    "df_test['CD_LACERAT_'] = np.where( (df_test['ClaimDescription'].str.find('LACERAT') < 0), 0, 1)\n"
   ]
  },
  {
   "cell_type": "code",
   "execution_count": 96,
   "metadata": {
    "execution": {
     "iopub.execute_input": "2021-08-07T15:34:05.277570Z",
     "iopub.status.busy": "2021-08-07T15:34:05.277260Z",
     "iopub.status.idle": "2021-08-07T15:36:38.853866Z",
     "shell.execute_reply": "2021-08-07T15:36:38.852892Z",
     "shell.execute_reply.started": "2021-08-07T15:34:05.277540Z"
    },
    "papermill": {
     "duration": 113.359364,
     "end_time": "2021-03-04T01:14:14.417723",
     "exception": false,
     "start_time": "2021-03-04T01:12:21.058359",
     "status": "completed"
    },
    "tags": []
   },
   "outputs": [
    {
     "name": "stderr",
     "output_type": "stream",
     "text": [
      "\n",
      "A value is trying to be set on a copy of a slice from a DataFrame\n",
      "\n",
      "See the caveats in the documentation: https://pandas.pydata.org/pandas-docs/stable/user_guide/indexing.html#returning-a-view-versus-a-copy\n"
     ]
    }
   ],
   "source": [
    "##### Body parts + Cause of Injury (verbs)\n",
    "df_test['BodyParts'] = 'Unknown'\n",
    "df_test['BodyParts_Minor'] = 'Unknown'\n",
    "df_test['BodyParts_Minor2'] = 'Unknown'\n",
    "\n",
    "\n",
    "df_test['CauseOfInjury'] = 'Unknown'\n",
    "df_test['CauseOfInjury_Minor'] = 'Unknown'\n",
    "\n",
    "row = 0\n",
    "\n",
    "for j in df_test['ClaimDescription']:\n",
    "         \n",
    "    find_body_parts = [i for i in current_body_parts_list if i.upper() in j.split()]     \n",
    "    \n",
    "    #### find verbs\n",
    "    words = j.lower().split()\n",
    "    tags = nltk.pos_tag(words)\n",
    "    all_verbs = [tag[0] for tag in tags if tag[1].startswith('VB')]\n",
    "    \n",
    "    ###### if no verbs tagged by NLTK, try spacy\n",
    "    if len(all_verbs) == 0:\n",
    "        sen = sp(j.lower())\n",
    "        spacy_tags = [(sen.text.split()[i], sen[i].pos_) for i in range(len(sen.text.split()))]        \n",
    "        spacy_tags = [tag[0] for tag in spacy_tags if tag[1].startswith('VERB')]    \n",
    "        if len(spacy_tags) >= 1:\n",
    "            all_verbs = spacy_tags        \n",
    "    \n",
    "    if len(all_verbs) >= 1:\n",
    "        find_verbs = [WordNetLemmatizer().lemmatize(word,'v') for word in all_verbs]\n",
    "        if len(find_verbs) == 1:\n",
    "            df_test['CauseOfInjury'].iloc[row] = find_verbs[0]\n",
    "        else:\n",
    "            df_test['CauseOfInjury'].iloc[row] = find_verbs[0]\n",
    "            df_test['CauseOfInjury_Minor'].iloc[row] = find_verbs[1]           \n",
    "    \n",
    "    #### find body parts\n",
    "    try:\n",
    "        if len(find_body_parts) == 1:\n",
    "            df_test['BodyParts'].iloc[row] = find_body_parts[0]\n",
    "        elif len(find_body_parts) == 2:\n",
    "            df_test['BodyParts'].iloc[row] = find_body_parts[0]\n",
    "            df_test['BodyParts_Minor'].iloc[row] = find_body_parts[1]\n",
    "        else:\n",
    "            df_test['BodyParts'].iloc[row] = find_body_parts[0]\n",
    "            df_test['BodyParts_Minor'].iloc[row] = find_body_parts[1]\n",
    "            df_test['BodyParts_Minor2'].iloc[row] = find_body_parts[2]\n",
    "            \n",
    "        row += 1\n",
    "    except:\n",
    "        acct = [i for i in accident if i in j.split()]\n",
    "        \n",
    "        if 'FOREIGN BODY' in j:\n",
    "            df_test['BodyParts'].iloc[row] = 'foreign_body'\n",
    "        elif 'TRAUMA' in j:\n",
    "            df_test['BodyParts'].iloc[row] = 'stress'\n",
    "        elif 'CARPEL' in j:\n",
    "            df_test['BodyParts'].iloc[row] = 'wrist'\n",
    "        elif len(acct) > 0:\n",
    "            df_test['BodyParts'].iloc[row] = 'external'\n",
    "        row += 1\n",
    "        continue\n",
    "\n",
    "df_test['CauseOfInjury'] = np.where(df_test['CauseOfInjury']=='fell', 'fall', df_test['CauseOfInjury'])\n",
    "df_test['CauseOfInjury'] = np.where(df_test['CauseOfInjury'].isin(encoding_cause_of_injury) & (df_test['CauseOfInjury'] != 'Unknown'), df_test['CauseOfInjury'], 'Others')\n",
    "\n",
    "\n",
    "##### Simple search on a few ## cause_text = ['drive', 'bend', 'lift', 'dig', 'burn', 'turn', 'load']\n",
    "\n",
    "for name in cause_text:\n",
    "    df_test['CD_' + name] = np.where(df_test['CauseOfInjury']==name, 1, 0)    ### !!!! positive relation\n",
    "    \n",
    "df_test.drop(['CauseOfInjury_Minor'], axis=1, inplace=True)  ### !!! keep CauseOfInjury for target encoding \n"
   ]
  },
  {
   "cell_type": "code",
   "execution_count": 97,
   "metadata": {
    "execution": {
     "iopub.execute_input": "2021-08-07T15:36:38.855357Z",
     "iopub.status.busy": "2021-08-07T15:36:38.855023Z",
     "iopub.status.idle": "2021-08-07T15:36:39.080463Z",
     "shell.execute_reply": "2021-08-07T15:36:39.079397Z",
     "shell.execute_reply.started": "2021-08-07T15:36:38.855326Z"
    },
    "papermill": {
     "duration": 0.321634,
     "end_time": "2021-03-04T01:14:14.802230",
     "exception": false,
     "start_time": "2021-03-04T01:14:14.480596",
     "status": "completed"
    },
    "tags": []
   },
   "outputs": [],
   "source": [
    "##### Target Encoding for train and test \n",
    "def add_noise(series, noise_level):\n",
    "    return series * (1 + noise_level * np.random.randn(len(series)))\n",
    "\n",
    "def target_encode(trn_series=None, \n",
    "                  tst_series=None, \n",
    "                  target=None, \n",
    "                  min_samples_leaf=1, \n",
    "                  smoothing=1,\n",
    "                  noise_level=0):\n",
    "    \"\"\"\n",
    "    Smoothing is computed based on the paper by Daniele Micci-Barreca\n",
    "    https://kaggle2.blob.core.windows.net/forum-message-attachments/225952/7441/high%20cardinality%20categoricals.pdf\n",
    "    Code modified from https://gist.github.com/thoolihan/65c3ea5485e947b786e289851a5ff7a9\n",
    "    \"\"\" \n",
    "    assert len(trn_series) == len(target)\n",
    "    assert trn_series.name == tst_series.name\n",
    "    \n",
    "    temp = pd.concat([trn_series, target], axis=1)\n",
    "    # Compute target mean \n",
    "    averages = temp.groupby(by=trn_series.name)[target.name].agg([\"mean\", \"count\"])\n",
    "    # Compute smoothing\n",
    "    smoothing = 1 / (1 + np.exp(-(averages[\"count\"] - min_samples_leaf) / smoothing))\n",
    "    \n",
    "    # Apply average function to all target data\n",
    "    prior = target.mean()\n",
    "    # The bigger the count the less full_avg is taken into account\n",
    "    averages[target.name] = prior * (1 - smoothing) + averages[\"mean\"] * smoothing\n",
    "    averages.drop([\"mean\", \"count\"], axis=1, inplace=True)\n",
    "    \n",
    "    # Apply averages to trn and tst series\n",
    "    ft_trn_series = pd.merge(\n",
    "        trn_series.to_frame(trn_series.name),\n",
    "        averages.reset_index().rename(columns={'index': target.name, target.name: 'average'}),\n",
    "        on=trn_series.name,\n",
    "        how='left')['average'].rename(trn_series.name + '_mean').fillna(prior)\n",
    "    # pd.merge does not keep the index so restore it        \n",
    "    ft_trn_series.index = trn_series.index \n",
    "    ft_tst_series = pd.merge(\n",
    "        tst_series.to_frame(tst_series.name),\n",
    "        averages.reset_index().rename(columns={'index': target.name, target.name: 'average'}),\n",
    "        on=tst_series.name,\n",
    "        how='left')['average'].rename(trn_series.name + '_mean').fillna(prior)\n",
    "    # pd.merge does not keep the index so restore it\n",
    "    ft_tst_series.index = tst_series.index\n",
    "    return add_noise(ft_trn_series, noise_level), add_noise(ft_tst_series, noise_level)  \n",
    "\n",
    "    \n",
    "df['BodyPartsEncoding'], df_test['BodyPartsEncoding'] = target_encode(trn_series=df['BodyParts'],      \n",
    "                                                                        tst_series=df_test['BodyParts'],\n",
    "                                                                        target= df['loss'],    ### df['UltimateIncurredClaimCost']\n",
    "                                                                        min_samples_leaf=100,\n",
    "                                                                        smoothing=10,\n",
    "                                                                        noise_level=0.01)\n",
    "\n",
    "##================== BodyParts_Minor and BodyParts_Minor2\n",
    "df['BodyPartsEncoding_Minor'], df_test['BodyPartsEncoding_Minor'] = target_encode(trn_series=df['BodyParts_Minor'],      \n",
    "                                                                        tst_series=df_test['BodyParts_Minor'],\n",
    "                                                                        target= df['loss'],    ### df['UltimateIncurredClaimCost']\n",
    "                                                                        min_samples_leaf=100,\n",
    "                                                                        smoothing=10,\n",
    "                                                                        noise_level=0.01)\n",
    "\n",
    "df['BodyPartsEncoding_Minor2'], df_test['BodyPartsEncoding_Minor2'] = target_encode(trn_series=df['BodyParts_Minor2'],      \n",
    "                                                                        tst_series=df_test['BodyParts_Minor2'],\n",
    "                                                                        target= df['loss'],    ### df['UltimateIncurredClaimCost']\n",
    "                                                                        min_samples_leaf=100,\n",
    "                                                                        smoothing=10,\n",
    "                                                                        noise_level=0.01)\n",
    "\n",
    "\n",
    "##================= Cause Of Injury \n",
    "df['CauseOfInjuryEncoding'], df_test['CauseOfInjuryEncoding'] = target_encode(trn_series=df['CauseOfInjury'],      \n",
    "                                                                        tst_series=df_test['CauseOfInjury'],\n",
    "                                                                        target= df['loss'],    ### df['UltimateIncurredClaimCost']\n",
    "                                                                        min_samples_leaf=100,\n",
    "                                                                        smoothing=10,\n",
    "                                                                        noise_level=0.01)\n",
    "\n",
    "\n",
    "df.drop(['CauseOfInjury'], axis=1, inplace=True)\n",
    "df_test.drop(['CauseOfInjury'], axis=1, inplace=True)\n",
    "\n"
   ]
  },
  {
   "cell_type": "code",
   "execution_count": 98,
   "metadata": {
    "execution": {
     "iopub.execute_input": "2021-08-07T15:36:39.082169Z",
     "iopub.status.busy": "2021-08-07T15:36:39.081840Z",
     "iopub.status.idle": "2021-08-07T15:36:39.105249Z",
     "shell.execute_reply": "2021-08-07T15:36:39.104320Z",
     "shell.execute_reply.started": "2021-08-07T15:36:39.082113Z"
    },
    "papermill": {
     "duration": 0.083877,
     "end_time": "2021-03-04T01:14:14.948336",
     "exception": false,
     "start_time": "2021-03-04T01:14:14.864459",
     "status": "completed"
    },
    "tags": []
   },
   "outputs": [],
   "source": [
    "from copy import deepcopy \n",
    "df_copy, df_test_copy = deepcopy(df), deepcopy(df_test)"
   ]
  },
  {
   "cell_type": "code",
   "execution_count": 99,
   "metadata": {
    "execution": {
     "iopub.execute_input": "2021-08-07T15:36:39.106712Z",
     "iopub.status.busy": "2021-08-07T15:36:39.106414Z",
     "iopub.status.idle": "2021-08-07T15:36:39.176036Z",
     "shell.execute_reply": "2021-08-07T15:36:39.174940Z",
     "shell.execute_reply.started": "2021-08-07T15:36:39.106683Z"
    },
    "papermill": {
     "duration": 0.156735,
     "end_time": "2021-03-04T01:14:15.167722",
     "exception": false,
     "start_time": "2021-03-04T01:14:15.010987",
     "status": "completed"
    },
    "tags": []
   },
   "outputs": [],
   "source": [
    "###### BodyParts_counts \n",
    "df, df_test = deepcopy(df_copy), deepcopy(df_test_copy)\n",
    "\n",
    "def frequency_encoding(column, df, df_test=None):\n",
    "    frequencies = df[column].value_counts().reset_index()\n",
    "    df_values = df[[column]].merge(frequencies, how='left', \n",
    "                                   left_on=column, right_on='index').iloc[:,-1].values\n",
    "    if df_test is not None:\n",
    "        df_test_values = df_test[[column]].merge(frequencies, how='left', \n",
    "                                                 left_on=column, right_on='index').fillna(1).iloc[:,-1].values\n",
    "    else:\n",
    "        df_test_values = None\n",
    "    return df_values, df_test_values\n",
    "\n",
    "for column in ['BodyParts']:\n",
    "    train_values, test_values = frequency_encoding(column, df, df_test)\n",
    "    df[column+'_counts'] = train_values\n",
    "    df_test[column+'_counts'] = test_values\n"
   ]
  },
  {
   "cell_type": "code",
   "execution_count": 100,
   "metadata": {
    "execution": {
     "iopub.execute_input": "2021-08-07T15:36:39.177528Z",
     "iopub.status.busy": "2021-08-07T15:36:39.177248Z",
     "iopub.status.idle": "2021-08-07T15:36:39.212797Z",
     "shell.execute_reply": "2021-08-07T15:36:39.211902Z",
     "shell.execute_reply.started": "2021-08-07T15:36:39.177501Z"
    },
    "papermill": {
     "duration": 1.906728,
     "end_time": "2021-03-04T01:18:45.050950",
     "exception": false,
     "start_time": "2021-03-04T01:18:43.144222",
     "status": "completed"
    },
    "tags": []
   },
   "outputs": [],
   "source": [
    "### Remove the Weekday encoding\n",
    "weekday_vars = [i for i in df.columns if i.startswith('WeekdayOfAccident') and i != 'WeekdayOfAccident_Encode']\n",
    "df.drop(weekday_vars, axis=1, inplace=True)\n",
    "df_test.drop(weekday_vars, axis=1, inplace=True)"
   ]
  },
  {
   "cell_type": "code",
   "execution_count": 101,
   "metadata": {
    "execution": {
     "iopub.execute_input": "2021-08-07T15:36:39.214754Z",
     "iopub.status.busy": "2021-08-07T15:36:39.214372Z",
     "iopub.status.idle": "2021-08-07T15:36:39.236482Z",
     "shell.execute_reply": "2021-08-07T15:36:39.235285Z",
     "shell.execute_reply.started": "2021-08-07T15:36:39.214714Z"
    },
    "papermill": {
     "duration": 2.231985,
     "end_time": "2021-03-04T01:20:43.511767",
     "exception": false,
     "start_time": "2021-03-04T01:20:41.279782",
     "status": "completed"
    },
    "tags": []
   },
   "outputs": [],
   "source": [
    "##### Drop ClaimDescription\n",
    "df.drop(['ClaimDescription'],axis=1,inplace=True)\n",
    "df_test.drop(['ClaimDescription'],axis=1,inplace=True)"
   ]
  },
  {
   "cell_type": "code",
   "execution_count": 102,
   "metadata": {
    "execution": {
     "iopub.execute_input": "2021-08-07T15:36:39.238480Z",
     "iopub.status.busy": "2021-08-07T15:36:39.238084Z",
     "iopub.status.idle": "2021-08-07T15:36:39.254213Z",
     "shell.execute_reply": "2021-08-07T15:36:39.253318Z",
     "shell.execute_reply.started": "2021-08-07T15:36:39.238447Z"
    },
    "papermill": {
     "duration": 2.19569,
     "end_time": "2021-03-04T01:20:52.523318",
     "exception": false,
     "start_time": "2021-03-04T01:20:50.327628",
     "status": "completed"
    },
    "tags": []
   },
   "outputs": [],
   "source": [
    "##### Add Severity as cat\n",
    "df['Severity_Ind_Cat'] = df['Severity_Ind'].astype(object)\n",
    "df_test['Severity_Ind_Cat'] = df_test['Severity_Ind'].astype(object)"
   ]
  },
  {
   "cell_type": "code",
   "execution_count": 103,
   "metadata": {
    "execution": {
     "iopub.execute_input": "2021-08-07T15:36:39.255998Z",
     "iopub.status.busy": "2021-08-07T15:36:39.255594Z",
     "iopub.status.idle": "2021-08-07T15:36:39.282210Z",
     "shell.execute_reply": "2021-08-07T15:36:39.281053Z",
     "shell.execute_reply.started": "2021-08-07T15:36:39.255953Z"
    },
    "papermill": {
     "duration": 2.248408,
     "end_time": "2021-03-04T01:20:56.974010",
     "exception": false,
     "start_time": "2021-03-04T01:20:54.725602",
     "status": "completed"
    },
    "tags": []
   },
   "outputs": [],
   "source": [
    "#### Label Encoding for test and interaction\n",
    "df_test['GenderMarital_int'] = df_test['Gender'].map(gender_mapping) * df_test['MaritalStatus'].map(marital_mapping)\n",
    "df_test['PartFullMarital_int'] = df_test['PartTimeFullTime'].map(partfull_mapping) * df_test['MaritalStatus'].map(marital_mapping)\n"
   ]
  },
  {
   "cell_type": "markdown",
   "metadata": {
    "papermill": {
     "duration": 2.178431,
     "end_time": "2021-03-04T01:21:01.320439",
     "exception": false,
     "start_time": "2021-03-04T01:20:59.142008",
     "status": "completed"
    },
    "tags": []
   },
   "source": [
    "### 2.2 Categorical One-hot encoding"
   ]
  },
  {
   "cell_type": "code",
   "execution_count": 104,
   "metadata": {
    "execution": {
     "iopub.execute_input": "2021-08-07T15:36:39.283818Z",
     "iopub.status.busy": "2021-08-07T15:36:39.283545Z",
     "iopub.status.idle": "2021-08-07T15:36:39.747152Z",
     "shell.execute_reply": "2021-08-07T15:36:39.746218Z",
     "shell.execute_reply.started": "2021-08-07T15:36:39.283790Z"
    },
    "papermill": {
     "duration": 2.590269,
     "end_time": "2021-03-04T01:21:06.097985",
     "exception": false,
     "start_time": "2021-03-04T01:21:03.507716",
     "status": "completed"
    },
    "tags": []
   },
   "outputs": [
    {
     "name": "stderr",
     "output_type": "stream",
     "text": [
      "\n",
      "A value is trying to be set on a copy of a slice from a DataFrame\n",
      "\n",
      "See the caveats in the documentation: https://pandas.pydata.org/pandas-docs/stable/user_guide/indexing.html#returning-a-view-versus-a-copy\n"
     ]
    },
    {
     "data": {
      "text/plain": [
       "(54000, 301)"
      ]
     },
     "execution_count": 104,
     "metadata": {},
     "output_type": "execute_result"
    }
   ],
   "source": [
    "# combine, drop claim description and get dummies\n",
    "df_all = pd.concat([df.assign(role=\"train\"), df_test.assign(role=\"test\")])\n",
    "df_all = pd.get_dummies(df_all)\n",
    "\n",
    "# seperate\n",
    "df_test_dummies, df_dummies = df_all[df_all[\"role_test\"].eq(1)], df_all[df_all[\"role_train\"].eq(1)]\n",
    "df_dummies.drop(['role_test','role_train'],axis=1,inplace=True)\n",
    "df_test_dummies.drop(['role_test','role_train','loss'],axis=1,inplace=True)\n",
    "df_dummies.shape\n"
   ]
  },
  {
   "cell_type": "markdown",
   "metadata": {
    "papermill": {
     "duration": 2.171431,
     "end_time": "2021-03-04T01:21:10.525996",
     "exception": false,
     "start_time": "2021-03-04T01:21:08.354565",
     "status": "completed"
    },
    "tags": []
   },
   "source": [
    "### 2.3  Create modeling data sets"
   ]
  },
  {
   "cell_type": "code",
   "execution_count": 105,
   "metadata": {
    "execution": {
     "iopub.execute_input": "2021-08-07T15:36:39.748670Z",
     "iopub.status.busy": "2021-08-07T15:36:39.748394Z",
     "iopub.status.idle": "2021-08-07T15:36:39.769218Z",
     "shell.execute_reply": "2021-08-07T15:36:39.768045Z",
     "shell.execute_reply.started": "2021-08-07T15:36:39.748643Z"
    },
    "papermill": {
     "duration": 2.242587,
     "end_time": "2021-03-04T01:21:19.390601",
     "exception": false,
     "start_time": "2021-03-04T01:21:17.148014",
     "status": "completed"
    },
    "tags": []
   },
   "outputs": [],
   "source": [
    "# set seed of random number generator\n",
    "seed = 9125\n",
    "# split data in feature matrix X and label y for training and validation\n",
    "X = df_dummies.drop(['loss'], axis=1)\n",
    "y = df_dummies['loss']\n",
    "## X_train, X_val, y_train, y_val = train_test_split(X, y, test_size=0.1, random_state=seed)\n",
    "X_test = df_test_dummies"
   ]
  },
  {
   "cell_type": "markdown",
   "metadata": {
    "papermill": {
     "duration": 2.184765,
     "end_time": "2021-03-04T01:21:23.765292",
     "exception": false,
     "start_time": "2021-03-04T01:21:21.580527",
     "status": "completed"
    },
    "tags": []
   },
   "source": [
    "<a id=\"ch3\"></a>\n",
    "## 3. Modeling, validating and predicting \n"
   ]
  },
  {
   "cell_type": "markdown",
   "metadata": {
    "papermill": {
     "duration": 2.167341,
     "end_time": "2021-03-04T01:21:35.066768",
     "exception": false,
     "start_time": "2021-03-04T01:21:32.899427",
     "status": "completed"
    },
    "tags": []
   },
   "source": [
    "### 3.1 lightGBM: Hyperparametertuning"
   ]
  },
  {
   "cell_type": "code",
   "execution_count": 106,
   "metadata": {
    "execution": {
     "iopub.execute_input": "2021-08-07T15:36:39.770970Z",
     "iopub.status.busy": "2021-08-07T15:36:39.770560Z",
     "iopub.status.idle": "2021-08-07T15:36:39.791669Z",
     "shell.execute_reply": "2021-08-07T15:36:39.790652Z",
     "shell.execute_reply.started": "2021-08-07T15:36:39.770938Z"
    },
    "papermill": {
     "duration": 2.276148,
     "end_time": "2021-03-04T01:21:39.569116",
     "exception": false,
     "start_time": "2021-03-04T01:21:37.292968",
     "status": "completed"
    },
    "tags": []
   },
   "outputs": [],
   "source": [
    "from copy import deepcopy \n",
    "X_copy, y_copy = deepcopy(X), deepcopy(y)\n",
    "X_test_copy = deepcopy(X_test)"
   ]
  },
  {
   "cell_type": "code",
   "execution_count": 107,
   "metadata": {
    "execution": {
     "iopub.execute_input": "2021-08-07T15:36:39.793603Z",
     "iopub.status.busy": "2021-08-07T15:36:39.793206Z",
     "iopub.status.idle": "2021-08-07T15:37:34.383570Z",
     "shell.execute_reply": "2021-08-07T15:37:34.382427Z",
     "shell.execute_reply.started": "2021-08-07T15:36:39.793561Z"
    },
    "papermill": {
     "duration": 60.476774,
     "end_time": "2021-03-04T01:23:00.005253",
     "exception": false,
     "start_time": "2021-03-04T01:21:59.528479",
     "status": "completed"
    },
    "tags": []
   },
   "outputs": [
    {
     "name": "stdout",
     "output_type": "stream",
     "text": [
      "[LightGBM] [Warning] feature_fraction is set=0.7, colsample_bytree=1.0 will be ignored. Current value: feature_fraction=0.7\n",
      "[LightGBM] [Warning] feature_fraction is set=0.7, colsample_bytree=1.0 will be ignored. Current value: feature_fraction=0.7\n",
      "[LightGBM] [Warning] feature_fraction is set=0.7, colsample_bytree=1.0 will be ignored. Current value: feature_fraction=0.7\n",
      "[LightGBM] [Warning] feature_fraction is set=0.7, colsample_bytree=1.0 will be ignored. Current value: feature_fraction=0.7\n",
      "[LightGBM] [Warning] feature_fraction is set=0.7, colsample_bytree=1.0 will be ignored. Current value: feature_fraction=0.7\n",
      "[LightGBM] [Warning] feature_fraction is set=0.7, colsample_bytree=1.0 will be ignored. Current value: feature_fraction=0.7\n",
      "[LightGBM] [Warning] feature_fraction is set=0.7, colsample_bytree=1.0 will be ignored. Current value: feature_fraction=0.7\n",
      "[LightGBM] [Warning] feature_fraction is set=0.7, colsample_bytree=1.0 will be ignored. Current value: feature_fraction=0.7\n",
      "[LightGBM] [Warning] feature_fraction is set=0.7, colsample_bytree=1.0 will be ignored. Current value: feature_fraction=0.7\n",
      "[LightGBM] [Warning] feature_fraction is set=0.7, colsample_bytree=1.0 will be ignored. Current value: feature_fraction=0.7\n",
      "LGB model run time (sec):    55\n",
      "LGB Average CV MSE 554976047.726 ± 98261414.591\n",
      "LGB Saved 10_percent MSE 637655195.045\n"
     ]
    }
   ],
   "source": [
    "##### LGBMRegressor: train and predict through CV\n",
    "import time\n",
    "tic = time.time()\n",
    "\n",
    "SEED = seed\n",
    "X, Xt, y, yt = train_test_split(deepcopy(X_copy), deepcopy(y_copy), test_size=0.1, random_state=SEED)\n",
    "X.reset_index(inplace=True, drop=True)\n",
    "Xt.reset_index(inplace=True, drop=True)\n",
    "\n",
    "\n",
    "## LGBMRegressor: n-fold CV \n",
    "import gc\n",
    "_ = gc.collect()\n",
    "\n",
    "SEED = seed\n",
    "FOLDS = 10\n",
    "\n",
    "## best pars selected from Bayesian hyper=opt\n",
    "best_pars = {'feature_fraction': 0.7, 'learning_rate': 0.025, \n",
    "             'n_estimators': 500, 'num_leaves': 50}\n",
    "\n",
    "skf = KFold(n_splits=FOLDS, shuffle=True, random_state=SEED)\n",
    "\n",
    "# CV \n",
    "mse_cv = list()\n",
    "oof = np.zeros(len(X))\n",
    "cv_val_preds_lgb = np.zeros(len(Xt))\n",
    "cv_test_preds_lgb = np.zeros(len(X_test))\n",
    "\n",
    "for train_idx, val_idx in skf.split(X, y):\n",
    "    X_train, y_train = X.iloc[train_idx, :], y.iloc[train_idx]\n",
    "    X_val, y_val = X.iloc[val_idx, :], y.iloc[val_idx]\n",
    "    \n",
    "    LGB = LGBMRegressor(**best_pars)\n",
    "   \n",
    "    LGB.fit(X_train, y_train, \n",
    "           early_stopping_rounds=50, \n",
    "           eval_set=[(X_val, y_val)],            \n",
    "           ## eval_metric='l2', \n",
    "           verbose=False)   ### l2 for MSE, l1 for MAE\n",
    "    \n",
    "    \n",
    "    preds = LGB.predict(X_val)\n",
    "    oof[val_idx] = preds\n",
    "    \n",
    "    # CV test prediction  \n",
    "    cv_val_preds_lgb += (np.expm1(LGB.predict(Xt))*1.31)/ FOLDS\n",
    "    cv_test_preds_lgb += (np.expm1(LGB.predict(X_test))*1.31)/ FOLDS    #### Convert back to the original scale as the raw prediction is in log \n",
    "    \n",
    "    result = mean_squared_error(np.expm1(y_val), np.expm1(LGB.predict(X_val))*1.31)  ## factor in the LDF and TF for LGB model only with log trans\n",
    "    mse_cv.append(result)\n",
    "\n",
    "\n",
    "print(\"LGB model run time (sec):\" + \"%6.0f\" % (time.time() - tic))\n",
    "\n",
    "##### Avg MSE from CV\n",
    "print(\"LGB Average CV MSE %0.3f ± %0.3f\" % (np.mean(mse_cv), np.std(mse_cv)))\n",
    "print(\"LGB Saved 10_percent MSE %0.3f\" % mean_squared_error(np.expm1(yt), cv_val_preds_lgb)) \n"
   ]
  },
  {
   "cell_type": "code",
   "execution_count": 108,
   "metadata": {
    "execution": {
     "iopub.execute_input": "2021-08-07T15:38:00.699292Z",
     "iopub.status.busy": "2021-08-07T15:38:00.698901Z",
     "iopub.status.idle": "2021-08-07T15:38:01.077718Z",
     "shell.execute_reply": "2021-08-07T15:38:01.076638Z",
     "shell.execute_reply.started": "2021-08-07T15:38:00.699257Z"
    },
    "papermill": {
     "duration": 2.607283,
     "end_time": "2021-03-04T01:23:13.610198",
     "exception": false,
     "start_time": "2021-03-04T01:23:11.002915",
     "status": "completed"
    },
    "tags": []
   },
   "outputs": [
    {
     "data": {
      "image/png": "[encoded data removed]",
      "text/plain": [
       "<Figure size 1080x1080 with 1 Axes>"
      ]
     },
     "metadata": {
      "needs_background": "light"
     },
     "output_type": "display_data"
    }
   ],
   "source": [
    "# lightGBM: Plot feature importance\n",
    "import matplotlib.pyplot as plt\n",
    "plt.rcParams[\"figure.figsize\"] = 15, 15 ### 20, 20  \n",
    "\n",
    "(pd.Series(LGB.feature_importances_, index=X_train.columns).nlargest(30).plot(kind='barh'))  \n",
    "plt.show()\n"
   ]
  },
  {
   "cell_type": "markdown",
   "metadata": {
    "papermill": {
     "duration": 2.277668,
     "end_time": "2021-03-04T01:23:18.058008",
     "exception": false,
     "start_time": "2021-03-04T01:23:15.780340",
     "status": "completed"
    },
    "tags": []
   },
   "source": [
    "### 3.2 XGBoost"
   ]
  },
  {
   "cell_type": "code",
   "execution_count": 109,
   "metadata": {
    "execution": {
     "iopub.execute_input": "2021-08-07T15:38:32.432572Z",
     "iopub.status.busy": "2021-08-07T15:38:32.432215Z",
     "iopub.status.idle": "2021-08-07T15:41:25.478779Z",
     "shell.execute_reply": "2021-08-07T15:41:25.477963Z",
     "shell.execute_reply.started": "2021-08-07T15:38:32.432543Z"
    },
    "papermill": {
     "duration": 122.542462,
     "end_time": "2021-03-04T01:25:22.818970",
     "exception": false,
     "start_time": "2021-03-04T01:23:20.276508",
     "status": "completed"
    },
    "tags": []
   },
   "outputs": [
    {
     "name": "stdout",
     "output_type": "stream",
     "text": [
      "XGB model run time (sec):   286\n",
      "XGB Average CV MSE 556753848.637 ± 97586614.153\n",
      "XGB Saved 10_percent MSE 637002754.336\n"
     ]
    }
   ],
   "source": [
    "#### XGBRegressor: train and predict through CV\n",
    "\n",
    "X, Xt, y, yt = train_test_split(deepcopy(X_copy), deepcopy(y_copy), test_size=0.1, random_state=SEED)\n",
    "X.reset_index(inplace=True, drop=True)\n",
    "Xt.reset_index(inplace=True, drop=True)\n",
    "\n",
    "import gc\n",
    "_ = gc.collect()\n",
    "\n",
    "best_pars_xgb = {'tree_method': 'hist', 'subsample': 0.7, 'n_estimators': 500, \n",
    "                 'max_depth': 7, 'learning_rate': 0.02, 'gamma': 0.49, 'colsample_bytree': 0.7}\n",
    "\n",
    "skf = KFold(n_splits=FOLDS, shuffle=True, random_state=SEED)\n",
    "\n",
    "# CV \n",
    "mse_cv_xgb = list()\n",
    "oof_xgb = np.zeros(len(X))\n",
    "cv_val_preds_xgb = np.zeros(len(Xt))\n",
    "cv_test_preds_xgb = np.zeros(len(X_test))\n",
    "\n",
    "\n",
    "for train_idx, val_idx in skf.split(X, y):\n",
    "    X_train, y_train = X.iloc[train_idx, :], y.iloc[train_idx]\n",
    "    X_val, y_val = X.iloc[val_idx, :], y.iloc[val_idx]\n",
    "    \n",
    "    XGB = XGBRegressor(**best_pars_xgb)\n",
    "    \n",
    "    XGB.fit(X_train, y_train, \n",
    "           eval_metric='rmse',\n",
    "           early_stopping_rounds=50, \n",
    "           eval_set=[(X_val, y_val)],        \n",
    "           verbose=False\n",
    "           )\n",
    "    \n",
    "    preds = XGB.predict(X_val)\n",
    "    oof_xgb[val_idx] = preds\n",
    "    \n",
    "    # CV test prediction       \n",
    "    cv_val_preds_xgb += (np.expm1(XGB.predict(Xt))*1.29) / FOLDS   \n",
    "    cv_test_preds_xgb += (np.expm1(XGB.predict(X_test))*1.29) / FOLDS   #### Convert back to the original scale as the raw prediction is in log \n",
    "    \n",
    "    result = mean_squared_error(np.expm1(y_val), np.expm1(XGB.predict(X_val))*1.29)  ## when use the tuning pars\n",
    "    mse_cv_xgb.append(result)\n",
    "\n",
    "\n",
    "print(\"XGB model run time (sec):\" + \"%6.0f\" % (time.time() - tic))\n",
    "\n",
    "##### Avg MSE from CV\n",
    "print(\"XGB Average CV MSE %0.3f ± %0.3f\" % (np.mean(mse_cv_xgb), np.std(mse_cv_xgb)))\n",
    "print(\"XGB Saved 10_percent MSE %0.3f\" % mean_squared_error(np.expm1(yt), cv_val_preds_xgb)) \n",
    "\n"
   ]
  },
  {
   "cell_type": "code",
   "execution_count": 110,
   "metadata": {
    "execution": {
     "iopub.execute_input": "2021-08-07T15:53:18.071116Z",
     "iopub.status.busy": "2021-08-07T15:53:18.070778Z",
     "iopub.status.idle": "2021-08-07T15:53:18.957002Z",
     "shell.execute_reply": "2021-08-07T15:53:18.955939Z",
     "shell.execute_reply.started": "2021-08-07T15:53:18.071087Z"
    },
    "papermill": {
     "duration": 3.15077,
     "end_time": "2021-03-04T01:25:37.082533",
     "exception": false,
     "start_time": "2021-03-04T01:25:33.931763",
     "status": "completed"
    },
    "tags": []
   },
   "outputs": [
    {
     "data": {
      "image/png": "[encoded data removed]",
      "text/plain": [
       "<Figure size 720x720 with 1 Axes>"
      ]
     },
     "metadata": {
      "needs_background": "light"
     },
     "output_type": "display_data"
    }
   ],
   "source": [
    "# XGBoost: Plot feature importance\n",
    "plt.rcParams[\"figure.figsize\"] = 10, 10 \n",
    "\n",
    "(pd.Series(XGB.feature_importances_, index=X_train.columns).nlargest(20).plot(kind='barh'))\n",
    "## (pd.Series(XGB.feature_importances_, index=X_train.columns).nlargest(len(X_train.columns)).plot(kind='barh'))  \n",
    "plt.show()\n",
    "\n"
   ]
  },
  {
   "cell_type": "markdown",
   "metadata": {
    "papermill": {
     "duration": 2.258555,
     "end_time": "2021-03-04T01:25:41.521453",
     "exception": false,
     "start_time": "2021-03-04T01:25:39.262898",
     "status": "completed"
    },
    "tags": []
   },
   "source": [
    "### 3.3 Model stacking and scoring"
   ]
  },
  {
   "cell_type": "code",
   "execution_count": 111,
   "metadata": {
    "execution": {
     "iopub.execute_input": "2021-08-07T15:54:35.648200Z",
     "iopub.status.busy": "2021-08-07T15:54:35.647835Z",
     "iopub.status.idle": "2021-08-07T15:54:35.661714Z",
     "shell.execute_reply": "2021-08-07T15:54:35.660584Z",
     "shell.execute_reply.started": "2021-08-07T15:54:35.648171Z"
    },
    "papermill": {
     "duration": 2.190745,
     "end_time": "2021-03-04T01:25:45.882356",
     "exception": false,
     "start_time": "2021-03-04T01:25:43.691611",
     "status": "completed"
    },
    "tags": []
   },
   "outputs": [
    {
     "name": "stdout",
     "output_type": "stream",
     "text": [
      "MSE:554869698.65\n"
     ]
    }
   ],
   "source": [
    "# Validation MSE (Stacking LightGBM and XGBoost)\n",
    "lgb_w, xgb_w = 0.85, 0.15\n",
    "\n",
    "##### CV train and prediction\n",
    "predictions_val = (lgb_w * np.expm1(oof)*1.31 + xgb_w * np.expm1(oof_xgb)*1.29)/(lgb_w + xgb_w)\n",
    "result = mean_squared_error(np.expm1(y), predictions_val)\n",
    "print(\"MSE:\" + \"%6.2f\" % result)"
   ]
  },
  {
   "cell_type": "code",
   "execution_count": null,
   "metadata": {
    "execution": {
     "iopub.execute_input": "2021-03-04T01:25:54.687957Z",
     "iopub.status.busy": "2021-03-04T01:25:54.687286Z",
     "iopub.status.idle": "2021-03-04T01:25:54.693051Z",
     "shell.execute_reply": "2021-03-04T01:25:54.692250Z"
    },
    "papermill": {
     "duration": 2.183621,
     "end_time": "2021-03-04T01:25:54.693175",
     "exception": false,
     "start_time": "2021-03-04T01:25:52.509554",
     "status": "completed"
    },
    "tags": []
   },
   "outputs": [],
   "source": [
    "# CV prediction \n",
    "predictions = (lgb_w * cv_test_preds_lgb + xgb_w * cv_test_preds_xgb)/(lgb_w + xgb_w)"
   ]
  },
  {
   "cell_type": "code",
   "execution_count": null,
   "metadata": {
    "execution": {
     "iopub.execute_input": "2021-03-04T01:25:59.170554Z",
     "iopub.status.busy": "2021-03-04T01:25:59.169860Z",
     "iopub.status.idle": "2021-03-04T01:25:59.523301Z",
     "shell.execute_reply": "2021-03-04T01:25:59.522436Z"
    },
    "papermill": {
     "duration": 2.585167,
     "end_time": "2021-03-04T01:25:59.523434",
     "exception": false,
     "start_time": "2021-03-04T01:25:56.938267",
     "status": "completed"
    },
    "tags": []
   },
   "outputs": [],
   "source": [
    "# Write submission file\n",
    "df_test_pred = pd.DataFrame({'ClaimNumber':ID,'UltimateIncurredClaimCost':predictions})\n",
    "df_test_pred.to_csv('submission_v3.csv',index=False)\n"
   ]
  },
  {
   "cell_type": "markdown",
   "metadata": {
    "papermill": {
     "duration": 2.242719,
     "end_time": "2021-03-04T01:26:03.959262",
     "exception": false,
     "start_time": "2021-03-04T01:26:01.716543",
     "status": "completed"
    },
    "tags": []
   },
   "source": [
    " "
   ]
  }
 ],
 "metadata": {
  "kernelspec": {
   "display_name": "Python 3",
   "language": "python",
   "name": "python3"
  },
  "language_info": {
   "codemirror_mode": {
    "name": "ipython",
    "version": 3
   },
   "file_extension": ".py",
   "mimetype": "text/x-python",
   "name": "python",
   "nbconvert_exporter": "python",
   "pygments_lexer": "ipython3",
   "version": "3.7.7"
  }
 },
 "nbformat": 4,
 "nbformat_minor": 4
}
